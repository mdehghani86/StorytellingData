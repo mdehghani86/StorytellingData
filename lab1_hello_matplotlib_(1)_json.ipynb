{
  "cells": [
    {
      "cell_type": "markdown",
      "metadata": {
        "id": "view-in-github",
        "colab_type": "text"
      },
      "source": [
        "<a href=\"https://colab.research.google.com/github/mdehghani86/StorytellingData/blob/main/lab1_hello_matplotlib_(1)_json.ipynb\" target=\"_parent\"><img src=\"https://colab.research.google.com/assets/colab-badge.svg\" alt=\"Open In Colab\"/></a>"
      ]
    },
    {
      "cell_type": "markdown",
      "metadata": {
        "id": "JtFpIguvLhqm"
      },
      "source": [
        "<div style=\"background: linear-gradient(90deg, #17a2b8 0%, #0e5a63 60%, #0a3d44 100%); color: white; padding: 18px 25px; margin-bottom: 20px;\">\n",
        "    <div style=\"display: flex; justify-content: space-between; align-items: baseline;\">\n",
        "        <h1 style=\"font-family: 'Helvetica Neue', sans-serif; font-size: 24px; margin: 0; font-weight: 300;\">\n",
        "            Lab 1: Hello, Matplotlib!\n",
        "        </h1>\n",
        "        <span style=\"font-size: 11px; opacity: 0.9;\">© Prof. Dehghani</span>\n",
        "    </div>\n",
        "    <p style=\"font-size: 13px; margin-top: 6px; margin-bottom: 0; opacity: 0.9;\">\n",
        "        Your First Data Visualization Journey | Beginner Level | 60 minutes\n",
        "    </p>\n",
        "</div>\n",
        "\n",
        "<div style=\"background: white; padding: 15px 20px; margin-bottom: 12px; border-left: 3px solid #17a2b8;\">\n",
        "    <h3 style=\"color: #17a2b8; font-size: 14px; margin: 0 0 8px 0; text-transform: uppercase; letter-spacing: 0.5px;\">Background</h3>\n",
        "    <p style=\"color: #555; line-height: 1.6; margin: 0; font-size: 13px;\">\n",
        "        Matplotlib was created in 2003 by neurobiologist <a href=\"https://en.wikipedia.org/wiki/John_D._Hunter\" style=\"color: #17a2b8;\">John D. Hunter</a>\n",
        "        who needed to visualize electrocorticography (ECoG) data from epilepsy patients. Hunter was familiar with MATLAB's powerful plotting capabilities but needed an open-source solution for Python.\n",
        "        His creation has since become the foundation of scientific visualization in Python, used by organizations from\n",
        "        <a href=\"https://www.jpl.nasa.gov/\" style=\"color: #17a2b8;\">NASA's Jet Propulsion Laboratory</a> for Mars rover data analysis to\n",
        "        <a href=\"https://www.ligo.org/\" style=\"color: #17a2b8;\">LIGO</a> for visualizing gravitational wave detections that won the Nobel Prize.\n",
        "        The library's name combines \"Matrix\" from MATLAB with \"plotting library,\" reflecting its heritage and purpose.\n",
        "    </p>\n",
        "</div>\n",
        "\n",
        "<table style=\"width: 100%; border-spacing: 12px;\">\n",
        "<tr>\n",
        "<td style=\"background: white; padding: 12px 15px; border-top: 3px solid #17a2b8; vertical-align: top; width: 50%;\">\n",
        "    <h4 style=\"color: #17a2b8; font-size: 13px; margin: 0 0 8px 0; font-weight: 600;\">Learning Objectives</h4>\n",
        "    <ul style=\"color: #555; line-height: 1.4; margin: 0; padding-left: 18px; font-size: 12px;\">\n",
        "        <li>Understand what Matplotlib is and why it matters</li>\n",
        "        <li>Create your first plot with just 3 lines of code</li>\n",
        "        <li>Master line charts for time series data</li>\n",
        "        <li>Build bar charts for categorical comparisons</li>\n",
        "        <li>Export professional figures for reports</li>\n",
        "    </ul>\n",
        "</td>\n",
        "<td style=\"background: white; padding: 12px 15px; border-top: 3px solid #00acc1; vertical-align: top; width: 50%;\">\n",
        "    <h4 style=\"color: #00acc1; font-size: 13px; margin: 0 0 8px 0; font-weight: 600;\">Core Functions</h4>\n",
        "    <div style=\"color: #555; font-size: 12px; line-height: 1.6;\">\n",
        "        <div style=\"padding: 2px 0;\"><code style=\"background: #e0f7fa; padding: 1px 5px; color: #006064;\">plt.plot()</code> → Create line charts</div>\n",
        "        <div style=\"padding: 2px 0;\"><code style=\"background: #e0f7fa; padding: 1px 5px; color: #006064;\">plt.bar()</code> → Create bar charts</div>\n",
        "        <div style=\"padding: 2px 0;\"><code style=\"background: #e0f7fa; padding: 1px 5px; color: #006064;\">plt.xlabel()</code> → Set x-axis label</div>\n",
        "        <div style=\"padding: 2px 0;\"><code style=\"background: #e0f7fa; padding: 1px 5px; color: #006064;\">plt.ylabel()</code> → Set y-axis label</div>\n",
        "        <div style=\"padding: 2px 0;\"><code style=\"background: #e0f7fa; padding: 1px 5px; color: #006064;\">plt.title()</code> → Add chart title</div>\n",
        "        <div style=\"padding: 2px 0;\"><code style=\"background: #e0f7fa; padding: 1px 5px; color: #006064;\">plt.savefig()</code> → Export to file</div>\n",
        "    </div>\n",
        "</td>\n",
        "</tr>\n",
        "</table>"
      ]
    },
    {
      "cell_type": "code",
      "execution_count": 1,
      "metadata": {
        "colab": {
          "base_uri": "https://localhost:8080/"
        },
        "id": "zaaqoX6GLhqt",
        "outputId": "9ec649dc-6105-4c5d-f467-465a4d2b631b"
      },
      "outputs": [
        {
          "output_type": "stream",
          "name": "stdout",
          "text": [
            "Setup complete!\n",
            "Matplotlib version: 3.10.0\n"
          ]
        }
      ],
      "source": [
        "# ============================================\n",
        "# CELL 1: Environment Setup\n",
        "# Purpose: Import libraries and configure settings\n",
        "# ============================================\n",
        "\n",
        "# Import the matplotlib plotting library\n",
        "import matplotlib.pyplot as plt\n",
        "\n",
        "# Import numpy for numerical operations\n",
        "import numpy as np\n",
        "\n",
        "# Set random seed for reproducibility\n",
        "np.random.seed(42)\n",
        "\n",
        "# Configure default plot settings\n",
        "plt.rcParams['figure.figsize'] = (10, 6)  # Default figure size\n",
        "plt.rcParams['figure.dpi'] = 100          # Display resolution\n",
        "plt.rcParams['font.size'] = 11            # Default font size\n",
        "\n",
        "print(\"Setup complete!\")\n",
        "print(f\"Matplotlib version: {plt.matplotlib.__version__}\")"
      ]
    },
    {
      "cell_type": "markdown",
      "metadata": {
        "id": "rkdS6m51Lhqv"
      },
      "source": [
        "<div style=\"background: white; padding: 15px 20px; margin-bottom: 12px; border-left: 3px solid #17a2b8;\">\n",
        "    <h3 style=\"color: #17a2b8; font-size: 14px; margin: 0 0 8px 0; text-transform: uppercase; letter-spacing: 0.5px;\">Your First Plot - Just 3 Lines!</h3>\n",
        "    <p style=\"color: #555; line-height: 1.6; margin: 0; font-size: 13px;\">\n",
        "        The beauty of Matplotlib lies in its simplicity. You can create a meaningful visualization with just three lines of code:\n",
        "        create data, plot it, and display it. This minimal approach makes Matplotlib accessible to beginners while still offering\n",
        "        the depth needed for complex scientific visualizations.\n",
        "    </p>\n",
        "</div>"
      ]
    },
    {
      "cell_type": "code",
      "execution_count": null,
      "metadata": {
        "id": "ARQQwEzTLhqw"
      },
      "outputs": [],
      "source": [
        "# ============================================\n",
        "# CELL 2: Your First Plot - The Absolute Minimum\n",
        "# Purpose: Show that plotting can be incredibly simple\n",
        "# ============================================\n",
        "\n",
        "# Line 1: Create data\n",
        "x = [1, 2, 3, 4, 5]\n",
        "y = [2, 4, 6, 8, 10]\n",
        "\n",
        "# Line 2: Plot the data\n",
        "plt.plot(x, y)\n",
        "\n",
        "# Line 3: Display the plot\n",
        "plt.show()\n",
        "\n",
        "print(\"Congratulations! You just created your first plot!\")"
      ]
    },
    {
      "cell_type": "code",
      "execution_count": null,
      "metadata": {
        "id": "7J7jCiFVLhqx"
      },
      "outputs": [],
      "source": [
        "# ============================================\n",
        "# CELL 3: Making It Meaningful\n",
        "# Purpose: Transform basic plot into informative visualization\n",
        "# ============================================\n",
        "\n",
        "# Same data with context\n",
        "days = [1, 2, 3, 4, 5]\n",
        "sales = [45, 52, 48, 58, 62]  # In thousands\n",
        "\n",
        "# Create plot with labels\n",
        "plt.plot(days, sales, marker='o')  # 'o' adds circular markers\n",
        "\n",
        "# Add context\n",
        "plt.title('Weekly Sales Performance')\n",
        "plt.xlabel('Day of Week')\n",
        "plt.ylabel('Sales ($1000s)')\n",
        "\n",
        "# Display\n",
        "plt.show()\n",
        "\n",
        "print(\"Much better! Now anyone can understand what this shows.\")"
      ]
    },
    {
      "cell_type": "markdown",
      "metadata": {
        "id": "36_rFI7sLhqy"
      },
      "source": [
        "<div style=\"background: white; padding: 15px 20px; margin-bottom: 12px; border-left: 3px solid #17a2b8;\">\n",
        "    <h3 style=\"color: #17a2b8; font-size: 14px; margin: 0 0 8px 0; text-transform: uppercase; letter-spacing: 0.5px;\">Line Charts: When to Use Them</h3>\n",
        "    <p style=\"color: #555; line-height: 1.6; margin: 0 0 10px 0; font-size: 13px;\">\n",
        "        Line charts are the workhorses of data visualization, perfect for showing how values change over a continuous variable,\n",
        "        typically time. They excel at revealing trends, patterns, and anomalies in sequential data. The human eye naturally\n",
        "        follows the line's path, making trends immediately apparent.\n",
        "    </p>\n",
        "    <table style=\"width: 100%; border-collapse: collapse; font-size: 12px;\">\n",
        "        <tr>\n",
        "            <td style=\"padding: 8px; background: #e8f5e9; border: 1px solid #c8e6c9; width: 50%;\">\n",
        "                <strong style=\"color: #2e7d32;\">Good Use Cases:</strong><br>\n",
        "                • Stock prices over time<br>\n",
        "                • Temperature throughout the day<br>\n",
        "                • Website traffic trends<br>\n",
        "                • Sales growth over months\n",
        "            </td>\n",
        "            <td style=\"padding: 8px; background: #ffebee; border: 1px solid #ffcdd2; width: 50%;\">\n",
        "                <strong style=\"color: #c62828;\">Bad Use Cases:</strong><br>\n",
        "                • Comparing unrelated categories<br>\n",
        "                • Showing parts of a whole<br>\n",
        "                • Discrete, unordered data<br>\n",
        "                • When you have only 2-3 data points\n",
        "            </td>\n",
        "        </tr>\n",
        "    </table>\n",
        "</div>"
      ]
    },
    {
      "cell_type": "code",
      "execution_count": null,
      "metadata": {
        "id": "hz_7T0NZLhqz"
      },
      "outputs": [],
      "source": [
        "# ============================================\n",
        "# CELL 4: Line Chart - BAD vs GOOD Example\n",
        "# Purpose: Show common mistakes and best practices\n",
        "# ============================================\n",
        "\n",
        "# Create figure with two subplots\n",
        "fig, (ax1, ax2) = plt.subplots(1, 2, figsize=(14, 6))\n",
        "\n",
        "# Generate sample data\n",
        "months = ['Jan', 'Feb', 'Mar', 'Apr', 'May', 'Jun']\n",
        "revenue = [45, 48, 52, 51, 58, 62]\n",
        "costs = [30, 32, 31, 33, 35, 34]\n",
        "profit = [15, 16, 21, 18, 23, 28]\n",
        "\n",
        "# ----------------\n",
        "# BAD Example\n",
        "# ----------------\n",
        "ax1.plot(months, revenue)  # No markers, default color\n",
        "ax1.plot(months, costs)     # No labels\n",
        "ax1.plot(months, profit)    # Can't tell which is which\n",
        "ax1.set_title('BAD: Confusing Line Chart', color='red', fontweight='bold')\n",
        "\n",
        "# ----------------\n",
        "# GOOD Example\n",
        "# ----------------\n",
        "ax2.plot(months, revenue, marker='o', linewidth=2, label='Revenue', color='#2ecc71')\n",
        "ax2.plot(months, costs, marker='s', linewidth=2, label='Costs', color='#e74c3c')\n",
        "ax2.plot(months, profit, marker='^', linewidth=2, label='Profit', color='#3498db')\n",
        "\n",
        "ax2.set_title('GOOD: Clear Line Chart', color='green', fontweight='bold')\n",
        "ax2.set_xlabel('Month')\n",
        "ax2.set_ylabel('Amount ($1000s)')\n",
        "ax2.legend(loc='upper left')\n",
        "ax2.grid(True, alpha=0.3)\n",
        "\n",
        "plt.tight_layout()\n",
        "plt.show()\n",
        "\n",
        "print(\"Key improvements in the GOOD example:\")\n",
        "print(\"• Different markers for each line\")\n",
        "print(\"• Clear color differentiation\")\n",
        "print(\"• Descriptive legend\")\n",
        "print(\"• Grid for easier reading\")\n",
        "print(\"• Proper labels\")"
      ]
    },
    {
      "cell_type": "markdown",
      "metadata": {
        "id": "bN2yToUyLhq1"
      },
      "source": [
        "<div style=\"background: white; padding: 15px 20px; margin-bottom: 12px; border-left: 3px solid #17a2b8;\">\n",
        "    <h3 style=\"color: #17a2b8; font-size: 14px; margin: 0 0 8px 0; text-transform: uppercase; letter-spacing: 0.5px;\">Bar Charts: Comparing Categories</h3>\n",
        "    <p style=\"color: #555; line-height: 1.6; margin: 0 0 10px 0; font-size: 13px;\">\n",
        "        Bar charts are ideal for comparing discrete categories or groups. Unlike line charts that show continuous change,\n",
        "        bar charts emphasize individual values and make it easy to compare magnitudes across categories. The length of each\n",
        "        bar encodes the value, making comparisons intuitive. Research by <a href=\"https://en.wikipedia.org/wiki/William_Playfair\" style=\"color: #17a2b8;\">William Playfair</a>,\n",
        "        who invented the bar chart in 1786, showed that humans can accurately judge linear distances, making bar charts highly effective.\n",
        "    </p>\n",
        "    <table style=\"width: 100%; border-collapse: collapse; font-size: 12px;\">\n",
        "        <tr>\n",
        "            <td style=\"padding: 8px; background: #e8f5e9; border: 1px solid #c8e6c9; width: 50%;\">\n",
        "                <strong style=\"color: #2e7d32;\">Good Use Cases:</strong><br>\n",
        "                • Sales by product category<br>\n",
        "                • Population by country<br>\n",
        "                • Survey responses<br>\n",
        "                • Department budgets\n",
        "            </td>\n",
        "            <td style=\"padding: 8px; background: #ffebee; border: 1px solid #ffcdd2; width: 50%;\">\n",
        "                <strong style=\"color: #c62828;\">Bad Use Cases:</strong><br>\n",
        "                • Continuous time series data<br>\n",
        "                • Too many categories (>15)<br>\n",
        "                • Showing relationships<br>\n",
        "                • When precise values aren't important\n",
        "            </td>\n",
        "        </tr>\n",
        "    </table>\n",
        "</div>"
      ]
    },
    {
      "cell_type": "code",
      "execution_count": null,
      "metadata": {
        "id": "u_LWIvWRLhq3"
      },
      "outputs": [],
      "source": [
        "# ============================================\n",
        "# CELL 5: Bar Chart - BAD vs GOOD Example\n",
        "# Purpose: Demonstrate effective bar chart design\n",
        "# ============================================\n",
        "\n",
        "# Create figure with two subplots\n",
        "fig, (ax1, ax2) = plt.subplots(1, 2, figsize=(14, 6))\n",
        "\n",
        "# Sample data\n",
        "departments = ['Sales', 'Marketing', 'IT', 'HR', 'Finance']\n",
        "performance = [85, 72, 91, 68, 78]\n",
        "\n",
        "# ----------------\n",
        "# BAD Example\n",
        "# ----------------\n",
        "# Too many visual effects, no value labels, random colors\n",
        "bars1 = ax1.bar(departments, performance,\n",
        "                color=['red', 'blue', 'yellow', 'green', 'purple'],\n",
        "                width=0.3)  # Too narrow\n",
        "ax1.set_title('BAD: Distracting Bar Chart', color='red', fontweight='bold')\n",
        "ax1.set_ylim(60, 100)  # Truncated y-axis can be misleading\n",
        "\n",
        "# ----------------\n",
        "# GOOD Example\n",
        "# ----------------\n",
        "# Sort data for better readability\n",
        "sorted_pairs = sorted(zip(departments, performance), key=lambda x: x[1], reverse=True)\n",
        "sorted_deps, sorted_perf = zip(*sorted_pairs)\n",
        "\n",
        "# Create bars with consistent color, highlight best performer\n",
        "colors = ['#17a2b8' if p == max(sorted_perf) else '#7fb3b8' for p in sorted_perf]\n",
        "bars2 = ax2.bar(sorted_deps, sorted_perf, color=colors, edgecolor='black', linewidth=1)\n",
        "\n",
        "# Add value labels on bars\n",
        "for bar, value in zip(bars2, sorted_perf):\n",
        "    ax2.text(bar.get_x() + bar.get_width()/2, bar.get_height() + 1,\n",
        "             f'{value}%', ha='center', fontweight='bold', fontsize=10)\n",
        "\n",
        "ax2.set_title('GOOD: Clear Bar Chart', color='green', fontweight='bold')\n",
        "ax2.set_xlabel('Department')\n",
        "ax2.set_ylabel('Performance Score (%)')\n",
        "ax2.set_ylim(0, 100)  # Start at zero for fair comparison\n",
        "ax2.grid(True, axis='y', alpha=0.3)\n",
        "\n",
        "# Add average line\n",
        "avg_performance = np.mean(performance)\n",
        "ax2.axhline(y=avg_performance, color='red', linestyle='--', alpha=0.5, label=f'Average: {avg_performance:.1f}%')\n",
        "ax2.legend()\n",
        "\n",
        "plt.tight_layout()\n",
        "plt.show()\n",
        "\n",
        "print(\"Key improvements in the GOOD example:\")\n",
        "print(\"• Sorted for easy comparison\")\n",
        "print(\"• Value labels on bars\")\n",
        "print(\"• Consistent color scheme\")\n",
        "print(\"• Y-axis starts at zero\")\n",
        "print(\"• Reference line for context\")"
      ]
    },
    {
      "cell_type": "markdown",
      "metadata": {
        "id": "fUt6cdgOLhq6"
      },
      "source": [
        "<div style=\"background: white; padding: 15px 20px; margin-bottom: 12px; border-left: 3px solid #00acc1;\">\n",
        "    <h3 style=\"color: #00acc1; font-size: 14px; margin: 0 0 8px 0; text-transform: uppercase; letter-spacing: 0.5px;\">Exercise 1: Create Your Own Line Chart</h3>\n",
        "    <p style=\"color: #555; line-height: 1.6; margin: 0; font-size: 13px;\">\n",
        "        Complete the code below to create a line chart showing weekly study hours. Add appropriate labels, title, and styling.\n",
        "    </p>\n",
        "</div>"
      ]
    },
    {
      "cell_type": "code",
      "execution_count": null,
      "metadata": {
        "id": "plm5N5urLhq7"
      },
      "outputs": [],
      "source": [
        "# ============================================\n",
        "# EXERCISE 1: Complete the Line Chart\n",
        "# Purpose: Practice creating a properly formatted line chart\n",
        "# ============================================\n",
        "\n",
        "# Data provided\n",
        "days = ['Mon', 'Tue', 'Wed', 'Thu', 'Fri', 'Sat', 'Sun']\n",
        "study_hours = [3, 4, 3.5, 5, 4.5, 6, 5.5]\n",
        "\n",
        "# TODO: Create a figure with size 10x6\n",
        "# plt.figure(figsize=?)\n",
        "\n",
        "# TODO: Create a line plot with markers\n",
        "# plt.plot(?, ?, marker=?, color=?, linewidth=?)\n",
        "\n",
        "# TODO: Add title\n",
        "# plt.title(?)\n",
        "\n",
        "# TODO: Add x and y labels\n",
        "# plt.xlabel(?)\n",
        "# plt.ylabel(?)\n",
        "\n",
        "# TODO: Add a grid\n",
        "# plt.grid(?)\n",
        "\n",
        "# Display the plot\n",
        "plt.show()"
      ]
    },
    {
      "cell_type": "code",
      "execution_count": null,
      "metadata": {
        "id": "8OztrhBfLhq8"
      },
      "outputs": [],
      "source": [
        "# ============================================\n",
        "# SOLUTION 1\n",
        "# ============================================\n",
        "\n",
        "# Data provided\n",
        "days = ['Mon', 'Tue', 'Wed', 'Thu', 'Fri', 'Sat', 'Sun']\n",
        "study_hours = [3, 4, 3.5, 5, 4.5, 6, 5.5]\n",
        "\n",
        "# Create figure\n",
        "plt.figure(figsize=(10, 6))\n",
        "\n",
        "# Create line plot\n",
        "plt.plot(days, study_hours, marker='o', color='#17a2b8', linewidth=2, markersize=8)\n",
        "\n",
        "# Add labels and title\n",
        "plt.title('Weekly Study Hours Pattern', fontsize=14, fontweight='bold')\n",
        "plt.xlabel('Day of Week', fontsize=12)\n",
        "plt.ylabel('Hours Studied', fontsize=12)\n",
        "\n",
        "# Add grid\n",
        "plt.grid(True, alpha=0.3)\n",
        "\n",
        "# Add average line\n",
        "avg_hours = np.mean(study_hours)\n",
        "plt.axhline(y=avg_hours, color='red', linestyle='--', alpha=0.5, label=f'Average: {avg_hours:.1f} hours')\n",
        "plt.legend()\n",
        "\n",
        "# Display\n",
        "plt.show()\n",
        "\n",
        "print(f\"Great job! You can see that weekend study hours are higher.\")\n",
        "print(f\"Average study time: {avg_hours:.1f} hours per day\")"
      ]
    },
    {
      "cell_type": "markdown",
      "metadata": {
        "id": "8M86QfXRLhq9"
      },
      "source": [
        "<div style=\"background: white; padding: 15px 20px; margin-bottom: 12px; border-left: 3px solid #00acc1;\">\n",
        "    <h3 style=\"color: #00acc1; font-size: 14px; margin: 0 0 8px 0; text-transform: uppercase; letter-spacing: 0.5px;\">Exercise 2: Create Your Own Bar Chart</h3>\n",
        "    <p style=\"color: #555; line-height: 1.6; margin: 0; font-size: 13px;\">\n",
        "        Create a bar chart comparing course grades. Remember to add value labels and sort the data.\n",
        "    </p>\n",
        "</div>"
      ]
    },
    {
      "cell_type": "code",
      "execution_count": null,
      "metadata": {
        "id": "wktT7ICDLhq-"
      },
      "outputs": [],
      "source": [
        "# ============================================\n",
        "# EXERCISE 2: Complete the Bar Chart\n",
        "# Purpose: Practice creating an effective bar chart\n",
        "# ============================================\n",
        "\n",
        "# Data provided\n",
        "courses = ['Math', 'Physics', 'Chemistry', 'Biology', 'English']\n",
        "grades = [88, 92, 79, 85, 91]\n",
        "\n",
        "# TODO: Sort the data by grades (hint: use sorted() with zip())\n",
        "\n",
        "# TODO: Create a bar chart\n",
        "\n",
        "# TODO: Add value labels on top of bars\n",
        "\n",
        "# TODO: Add title and labels\n",
        "\n",
        "# TODO: Add a horizontal line showing the average grade\n",
        "\n",
        "plt.show()"
      ]
    },
    {
      "cell_type": "code",
      "execution_count": null,
      "metadata": {
        "id": "42hPoQ4fLhrA"
      },
      "outputs": [],
      "source": [
        "# ============================================\n",
        "# SOLUTION 2\n",
        "# ============================================\n",
        "\n",
        "# Data provided\n",
        "courses = ['Math', 'Physics', 'Chemistry', 'Biology', 'English']\n",
        "grades = [88, 92, 79, 85, 91]\n",
        "\n",
        "# Sort data\n",
        "sorted_pairs = sorted(zip(courses, grades), key=lambda x: x[1], reverse=True)\n",
        "sorted_courses, sorted_grades = zip(*sorted_pairs)\n",
        "\n",
        "# Create figure\n",
        "plt.figure(figsize=(10, 6))\n",
        "\n",
        "# Create bar chart with color coding\n",
        "colors = ['#2ecc71' if g >= 90 else '#17a2b8' if g >= 80 else '#e74c3c' for g in sorted_grades]\n",
        "bars = plt.bar(sorted_courses, sorted_grades, color=colors, edgecolor='black', linewidth=1)\n",
        "\n",
        "# Add value labels\n",
        "for bar, grade in zip(bars, sorted_grades):\n",
        "    plt.text(bar.get_x() + bar.get_width()/2, bar.get_height() + 0.5,\n",
        "             f'{grade}%', ha='center', fontweight='bold')\n",
        "\n",
        "# Add labels and title\n",
        "plt.title('Course Grades Comparison', fontsize=14, fontweight='bold')\n",
        "plt.xlabel('Course', fontsize=12)\n",
        "plt.ylabel('Grade (%)', fontsize=12)\n",
        "\n",
        "# Add average line\n",
        "avg_grade = np.mean(grades)\n",
        "plt.axhline(y=avg_grade, color='red', linestyle='--', alpha=0.5, label=f'Average: {avg_grade:.1f}%')\n",
        "\n",
        "# Add grid and legend\n",
        "plt.grid(True, axis='y', alpha=0.3)\n",
        "plt.legend()\n",
        "plt.ylim(0, 100)\n",
        "\n",
        "plt.show()\n",
        "\n",
        "print(\"Excellent! Color coding helps identify performance levels:\")\n",
        "print(\"• Green: A grade (90+)\")\n",
        "print(\"• Blue: B grade (80-89)\")\n",
        "print(\"• Red: C grade (<80)\")"
      ]
    },
    {
      "cell_type": "markdown",
      "metadata": {
        "id": "tjC2SxB-LhrC"
      },
      "source": [
        "<div style=\"background: white; padding: 15px 20px; margin-bottom: 12px; border-left: 3px solid #17a2b8;\">\n",
        "    <h3 style=\"color: #17a2b8; font-size: 14px; margin: 0 0 8px 0; text-transform: uppercase; letter-spacing: 0.5px;\">Saving Your Visualizations</h3>\n",
        "    <p style=\"color: #555; line-height: 1.6; margin: 0; font-size: 13px;\">\n",
        "        Professional visualizations often need to be shared in reports, presentations, or publications. Matplotlib supports\n",
        "        multiple export formats, each with specific use cases. The <code>savefig()</code> function provides fine control\n",
        "        over output quality, resolution, and format.\n",
        "    </p>\n",
        "</div>"
      ]
    },
    {
      "cell_type": "code",
      "execution_count": null,
      "metadata": {
        "id": "w1ndzKqELhrD"
      },
      "outputs": [],
      "source": [
        "# ============================================\n",
        "# CELL 6: Saving Figures in Different Formats\n",
        "# Purpose: Learn how to export visualizations\n",
        "# ============================================\n",
        "\n",
        "# Create a sample chart\n",
        "fig, ax = plt.subplots(figsize=(10, 6))\n",
        "\n",
        "# Generate data\n",
        "x = np.linspace(0, 10, 100)\n",
        "y1 = np.sin(x)\n",
        "y2 = np.cos(x)\n",
        "\n",
        "# Create plot\n",
        "ax.plot(x, y1, label='sin(x)', color='#17a2b8', linewidth=2)\n",
        "ax.plot(x, y2, label='cos(x)', color='#e74c3c', linewidth=2)\n",
        "ax.set_title('Trigonometric Functions', fontsize=14, fontweight='bold')\n",
        "ax.set_xlabel('x')\n",
        "ax.set_ylabel('y')\n",
        "ax.legend()\n",
        "ax.grid(True, alpha=0.3)\n",
        "\n",
        "# Save in different formats\n",
        "# PNG - Best for web and presentations\n",
        "plt.savefig('trig_functions.png', dpi=150, bbox_inches='tight')\n",
        "\n",
        "# PDF - Best for academic papers (vector format)\n",
        "plt.savefig('trig_functions.pdf', bbox_inches='tight')\n",
        "\n",
        "# SVG - Best for web (scalable vector)\n",
        "plt.savefig('trig_functions.svg', bbox_inches='tight')\n",
        "\n",
        "plt.show()\n",
        "\n",
        "print(\"Figure saved in multiple formats:\")\n",
        "print(\"• PNG: Raster format, good for presentations\")\n",
        "print(\"• PDF: Vector format, perfect for publications\")\n",
        "print(\"• SVG: Scalable vector, ideal for web\")\n",
        "print(\"\\nParameters:\")\n",
        "print(\"• dpi: Controls resolution (150-300 for print)\")\n",
        "print(\"• bbox_inches='tight': Removes extra whitespace\")"
      ]
    },
    {
      "cell_type": "markdown",
      "metadata": {
        "id": "L8wG8gcsLhrE"
      },
      "source": [
        "<div style=\"background: #f0f9ff; padding: 15px 20px; margin-bottom: 12px; border-left: 3px solid #0284c7;\">\n",
        "    <h3 style=\"color: #0284c7; font-size: 14px; margin: 0 0 8px 0; text-transform: uppercase; letter-spacing: 0.5px;\">Lab Summary</h3>\n",
        "    <div style=\"color: #555; font-size: 13px; line-height: 1.6;\">\n",
        "        <p style=\"margin: 0 0 10px 0;\"><strong>What You Learned:</strong></p>\n",
        "        <ul style=\"margin: 0; padding-left: 20px;\">\n",
        "            <li>Matplotlib basics and its importance in scientific computing</li>\n",
        "            <li>Creating your first plot with minimal code</li>\n",
        "            <li>Line charts for temporal data and trends</li>\n",
        "            <li>Bar charts for categorical comparisons</li>\n",
        "            <li>Best practices for each chart type</li>\n",
        "            <li>Exporting figures for different use cases</li>\n",
        "        </ul>\n",
        "        <p style=\"margin: 10px 0 0 0;\"><strong>Next Lab:</strong> Essential Charts - Scatter plots, Histograms, and more!</p>\n",
        "    </div>\n",
        "</div>"
      ]
    }
  ],
  "metadata": {
    "kernelspec": {
      "display_name": "Python 3",
      "language": "python",
      "name": "python3"
    },
    "language_info": {
      "codemirror_mode": {
        "name": "ipython",
        "version": 3
      },
      "file_extension": ".py",
      "mimetype": "text/x-python",
      "name": "python",
      "nbconvert_exporter": "python",
      "pygments_lexer": "ipython3",
      "version": "3.8.0"
    },
    "colab": {
      "provenance": [],
      "include_colab_link": true
    }
  },
  "nbformat": 4,
  "nbformat_minor": 0
}