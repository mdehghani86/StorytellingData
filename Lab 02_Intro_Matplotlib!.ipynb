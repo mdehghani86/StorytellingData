{
  "cells": [
    {
      "cell_type": "markdown",
      "metadata": {
        "id": "view-in-github",
        "colab_type": "text"
      },
      "source": [
        "<a href=\"https://colab.research.google.com/github/mdehghani86/StorytellingData/blob/main/Lab%2001_Intro_Matplotlib!.ipynb\" target=\"_parent\"><img src=\"https://colab.research.google.com/assets/colab-badge.svg\" alt=\"Open In Colab\"/></a>"
      ]
    },
    {
      "cell_type": "markdown",
      "metadata": {
        "id": "fPPmCiZVd_bo"
      },
      "source": [
        "<div style=\"background: linear-gradient(90deg, #17a2b8 0%, #0e5a63 60%, #0a3d44 100%); color: white; padding: 18px 25px; margin-bottom: 20px;\">\n",
        "    <div style=\"display: flex; justify-content: space-between; align-items: baseline;\">\n",
        "        <h1 style=\"font-family: 'Helvetica Neue', sans-serif; font-size: 24px; margin: 0; font-weight: 300;\">\n",
        "            Lab 2: Hello, Matplotlib! Your First Visualization\n",
        "        </h1>\n",
        "        <span style=\"font-size: 11px; opacity: 0.9;\">© Prof. Dehghani</span>\n",
        "    </div>\n",
        "    <p style=\"font-size: 13px; margin-top: 6px; margin-bottom: 0; opacity: 0.9;\">\n",
        "        Introduction to Data Visualization with Python | Absolute Beginner | No Prerequisites\n",
        "    </p>\n",
        "</div>\n",
        "\n",
        "<div style=\"background: white; padding: 15px 20px; margin-bottom: 12px; border-left: 3px solid #17a2b8;\">\n",
        "    <h3 style=\"color: #17a2b8; font-size: 14px; margin: 0 0 8px 0; text-transform: uppercase; letter-spacing: 0.5px;\">What is Data Visualization?</h3>\n",
        "    <p style=\"color: #555; line-height: 1.6; margin: 0; font-size: 13px;\">\n",
        "        Data visualization is the art and science of turning numbers into pictures. Imagine you have a spreadsheet with 1000 numbers - it's hard to understand patterns just by looking at them. But if you create a chart, suddenly trends, outliers, and relationships become visible instantly. This is the power of visualization - it transforms data into insights that our brains can process immediately.\n",
        "    </p>\n",
        "</div>\n",
        "\n",
        "<table style=\"width: 100%; border-spacing: 12px;\">\n",
        "<tr>\n",
        "<td style=\"background: white; padding: 12px 15px; border-top: 3px solid #17a2b8; vertical-align: top; width: 50%;\">\n",
        "    <h4 style=\"color: #17a2b8; font-size: 13px; margin: 0 0 8px 0; font-weight: 600;\">What You'll Learn Today</h4>\n",
        "    <ul style=\"color: #555; line-height: 1.4; margin: 0; padding-left: 18px; font-size: 12px;\">\n",
        "        <li>What Matplotlib is and why we use it</li>\n",
        "        <li>How to create your first plot (just 3 lines!)</li>\n",
        "        <li>Line charts for showing trends</li>\n",
        "        <li>Bar charts for comparing things</li>\n",
        "        <li>How to save your charts</li>\n",
        "    </ul>\n",
        "</td>\n",
        "<td style=\"background: white; padding: 12px 15px; border-top: 3px solid #00acc1; vertical-align: top; width: 50%;\">\n",
        "    <h4 style=\"color: #00acc1; font-size: 13px; margin: 0 0 8px 0; font-weight: 600;\">Lab Structure</h4>\n",
        "    <div style=\"color: #555; font-size: 12px; line-height: 1.6;\">\n",
        "        <div style=\"padding: 2px 0;\"><strong>Section 1:</strong> Welcome & Setup (5 min)</div>\n",
        "        <div style=\"padding: 2px 0;\"><strong>Section 2:</strong> Your First Plot (15 min)</div>\n",
        "        <div style=\"padding: 2px 0;\"><strong>Section 3:</strong> Line Charts (20 min)</div>\n",
        "        <div style=\"padding: 2px 0;\"><strong>Section 4:</strong> Bar Charts (15 min)</div>\n",
        "        <div style=\"padding: 2px 0;\"><strong>Section 5:</strong> Saving Your Work (5 min)</div>\n",
        "    </div>\n",
        "</td>\n",
        "</tr>\n",
        "</table>"
      ]
    },
    {
      "cell_type": "markdown",
      "metadata": {
        "id": "QrsQk3Qid_bs"
      },
      "source": [
        "<div style=\"background: linear-gradient(90deg, #e8f5e9 0%, #c8e6c9 100%); padding: 15px; border-radius: 5px; margin: 20px 0;\">\n",
        "    <h2 style=\"color: #2e7d32; font-size: 18px; margin: 0;\">Section 1: Welcome & Setup</h2>\n",
        "    <p style=\"color: #555; font-size: 12px; margin-top: 8px; margin-bottom: 0;\">\n",
        "        Let's start by welcoming you personally and setting up our tools. Think of this like opening your toolbox before starting a project.\n",
        "    </p>\n",
        "</div>"
      ]
    },
    {
      "cell_type": "code",
      "execution_count": null,
      "metadata": {
        "colab": {
          "base_uri": "https://localhost:8080/"
        },
        "id": "WbQORGFod_bs",
        "outputId": "d1d70f48-e80a-42ba-fc89-28f953398af7"
      },
      "outputs": [
        {
          "output_type": "stream",
          "name": "stdout",
          "text": [
            "Welcome to Data Visualization! What's your name? Mohammad\n",
            "\n",
            "🎉 Hello Mohammad! Welcome to Lab 1: Your First Matplotlib Adventure!\n",
            "Great to have you here, Mohammad. Let's create some amazing visualizations together!\n",
            "\n"
          ]
        }
      ],
      "source": [
        "# ============================================\n",
        "# CELL 1: Personal Welcome\n",
        "# Purpose: Welcome the student and collect their name\n",
        "# ============================================\n",
        "\n",
        "# Let's start by getting your name for a personalized experience\n",
        "student_name = input(\"Welcome to Data Visualization! What's your name? \")\n",
        "\n",
        "print(f\"\\n🎉 Hello {student_name}! Welcome to Lab 1: Your First Matplotlib Adventure!\")\n",
        "print(f\"Great to have you here, {student_name}. Let's create some amazing visualizations together!\\n\")"
      ]
    },
    {
      "cell_type": "code",
      "execution_count": null,
      "metadata": {
        "colab": {
          "base_uri": "https://localhost:8080/"
        },
        "id": "DkTEp_ISd_bu",
        "outputId": "bee7978a-55d0-4c07-a2a9-f86186419eaa"
      },
      "outputs": [
        {
          "output_type": "stream",
          "name": "stdout",
          "text": [
            "✅ Success! All libraries loaded.\n",
            "Matplotlib version: 3.10.0\n"
          ]
        }
      ],
      "source": [
        "# ============================================\n",
        "# CELL 2: Import Required Libraries\n",
        "# Purpose: Load the tools we need for visualization\n",
        "# ============================================\n",
        "\n",
        "# This imports matplotlib's plotting functions\n",
        "# We nickname it 'plt' for shorter typing\n",
        "import matplotlib.pyplot as plt\n",
        "\n",
        "# This imports numpy for working with numbers\n",
        "# We nickname it 'np' for convenience\n",
        "import numpy as np\n",
        "\n",
        "# This is for displaying HTML content (for our pretty_print function)\n",
        "from IPython.display import HTML, display\n",
        "\n",
        "# Let's check if everything loaded correctly\n",
        "print(\"✅ Success! All libraries loaded.\")\n",
        "print(f\"Matplotlib version: {plt.matplotlib.__version__}\")"
      ]
    },
    {
      "cell_type": "code",
      "execution_count": null,
      "metadata": {
        "colab": {
          "base_uri": "https://localhost:8080/",
          "height": 283
        },
        "id": "FQfJOh4Ad_bv",
        "outputId": "a5d4bb76-c328-4229-f3ee-65e7ab912d8e"
      },
      "outputs": [
        {
          "output_type": "display_data",
          "data": {
            "text/plain": [
              "<IPython.core.display.HTML object>"
            ],
            "text/html": [
              "\n",
              "    <div style=\"border-radius: 5px; \n",
              "                margin: 10px 0; \n",
              "                width: 20cm;\n",
              "                max-width: 20cm;\n",
              "                box-sizing: border-box;\n",
              "                box-shadow: 0 2px 4px rgba(0,0,0,0.1);\">\n",
              "        <div style=\"background: linear-gradient(90deg, #17a2b8 0%, #0e5a63 100%); \n",
              "                    padding: 10px 15px; border-radius: 5px 5px 0 0;\">\n",
              "            <strong style=\"color: white; font-size: 14px;\">Welcome Mohammad!</strong>\n",
              "        </div>\n",
              "        <div style=\"background: #f8f9fa; padding: 10px 15px; border-radius: 0 0 5px 5px;\n",
              "                    border-left: 3px solid #17a2b8;\">\n",
              "            <div style=\"color: rgba(0,0,0,0.8); font-size: 12px; line-height: 1.5;\">This enhanced function will help us display information beautifully throughout the lab.</div>\n",
              "        </div>\n",
              "    </div>\n",
              "    "
            ]
          },
          "metadata": {}
        },
        {
          "output_type": "display_data",
          "data": {
            "text/plain": [
              "<IPython.core.display.HTML object>"
            ],
            "text/html": [
              "\n",
              "    <div style=\"border-radius: 5px; \n",
              "                margin: 10px 0; \n",
              "                width: 20cm;\n",
              "                max-width: 20cm;\n",
              "                box-sizing: border-box;\n",
              "                box-shadow: 0 2px 4px rgba(0,0,0,0.1);\">\n",
              "        <div style=\"background: linear-gradient(90deg, #28a745 0%, #155724 100%); \n",
              "                    padding: 10px 15px; border-radius: 5px 5px 0 0;\">\n",
              "            <strong style=\"color: white; font-size: 14px;\">Success Style</strong>\n",
              "        </div>\n",
              "        <div style=\"background: #f8fff9; padding: 10px 15px; border-radius: 0 0 5px 5px;\n",
              "                    border-left: 3px solid #28a745;\">\n",
              "            <div style=\"color: rgba(0,0,0,0.8); font-size: 12px; line-height: 1.5;\">This shows what success messages look like.</div>\n",
              "        </div>\n",
              "    </div>\n",
              "    "
            ]
          },
          "metadata": {}
        },
        {
          "output_type": "display_data",
          "data": {
            "text/plain": [
              "<IPython.core.display.HTML object>"
            ],
            "text/html": [
              "\n",
              "    <div style=\"border-radius: 5px; \n",
              "                margin: 10px 0; \n",
              "                width: 20cm;\n",
              "                max-width: 20cm;\n",
              "                box-sizing: border-box;\n",
              "                box-shadow: 0 2px 4px rgba(0,0,0,0.1);\">\n",
              "        <div style=\"background: linear-gradient(90deg, #ffc107 0%, #e0a800 100%); \n",
              "                    padding: 10px 15px; border-radius: 5px 5px 0 0;\">\n",
              "            <strong style=\"color: white; font-size: 14px;\">Warning Style</strong>\n",
              "        </div>\n",
              "        <div style=\"background: #fffdf5; padding: 10px 15px; border-radius: 0 0 5px 5px;\n",
              "                    border-left: 3px solid #ffc107;\">\n",
              "            <div style=\"color: rgba(0,0,0,0.8); font-size: 12px; line-height: 1.5;\">This shows what important messages look like.</div>\n",
              "        </div>\n",
              "    </div>\n",
              "    "
            ]
          },
          "metadata": {}
        }
      ],
      "source": [
        "# ============================================\n",
        "# CELL 3: Enhanced Pretty Print Function\n",
        "# Purpose: Create beautiful output displays with multiple themes\n",
        "# ============================================\n",
        "\n",
        "def pretty_print(title, content, style='info'):\n",
        "    \"\"\"Display formatted output in a styled box with different themes\n",
        "\n",
        "    Args:\n",
        "        title (str): The title of the message box\n",
        "        content (str): The content to display\n",
        "        style (str): Theme style - 'info', 'success', 'warning'\n",
        "    \"\"\"\n",
        "\n",
        "    # Define color schemes\n",
        "    themes = {\n",
        "        'info': {\n",
        "            'primary': '#17a2b8',\n",
        "            'secondary': '#0e5a63',\n",
        "            'background': '#f8f9fa'\n",
        "        },\n",
        "        'success': {\n",
        "            'primary': '#28a745',\n",
        "            'secondary': '#155724',\n",
        "            'background': '#f8fff9'\n",
        "        },\n",
        "        'warning': {\n",
        "            'primary': '#ffc107',\n",
        "            'secondary': '#e0a800',\n",
        "            'background': '#fffdf5'\n",
        "        }\n",
        "    }\n",
        "\n",
        "    theme = themes.get(style, themes['info'])\n",
        "\n",
        "    html = f'''\n",
        "    <div style=\"border-radius: 5px;\n",
        "                margin: 10px 0;\n",
        "                width: 20cm;\n",
        "                max-width: 20cm;\n",
        "                box-sizing: border-box;\n",
        "                box-shadow: 0 2px 4px rgba(0,0,0,0.1);\">\n",
        "        <div style=\"background: linear-gradient(90deg, {theme['primary']} 0%, {theme['secondary']} 100%);\n",
        "                    padding: 10px 15px; border-radius: 5px 5px 0 0;\">\n",
        "            <strong style=\"color: white; font-size: 14px;\">{title}</strong>\n",
        "        </div>\n",
        "        <div style=\"background: {theme['background']}; padding: 10px 15px; border-radius: 0 0 5px 5px;\n",
        "                    border-left: 3px solid {theme['primary']};\">\n",
        "            <div style=\"color: rgba(0,0,0,0.8); font-size: 12px; line-height: 1.5;\">{content}</div>\n",
        "        </div>\n",
        "    </div>\n",
        "    '''\n",
        "    display(HTML(html))\n",
        "\n",
        "# Test our enhanced function with different styles\n",
        "pretty_print(f\"Welcome {student_name}!\",\n",
        "             \"This enhanced function will help us display information beautifully throughout the lab.\",\n",
        "             'info')\n",
        "\n",
        "pretty_print(\"Success Style\",\n",
        "             \"This shows what success messages look like.\",\n",
        "             'success')\n",
        "\n",
        "pretty_print(\"Warning Style\",\n",
        "             \"This shows what important messages look like.\",\n",
        "             'warning')"
      ]
    },
    {
      "cell_type": "markdown",
      "metadata": {
        "id": "x1E7Ew5Md_bv"
      },
      "source": [
        "<div style=\"background: white; padding: 15px 20px; margin-bottom: 12px; border-left: 3px solid #17a2b8;\">\n",
        "    <h3 style=\"color: #17a2b8; font-size: 14px; margin: 0 0 8px 0;\">What is Matplotlib?</h3>\n",
        "    <p style=\"color: #555; line-height: 1.6; margin: 0; font-size: 13px;\">\n",
        "        Matplotlib is Python's most popular library for creating charts and graphs. Created in 2003 by\n",
        "        <a href=\"https://en.wikipedia.org/wiki/John_D._Hunter\" style=\"color: #17a2b8;\">John D. Hunter</a>,\n",
        "        it's now used by scientists at <a href=\"https://www.nasa.gov\" style=\"color: #17a2b8;\">NASA</a>,\n",
        "        researchers at universities, and data analysts at companies worldwide. The name comes from \"Matrix\" + \"Plotting Library\"\n",
        "        because it was inspired by MATLAB's plotting capabilities.\n",
        "    </p>\n",
        "</div>"
      ]
    },
    {
      "cell_type": "markdown",
      "metadata": {
        "id": "-tNpN5MBd_bv"
      },
      "source": [
        "<div style=\"background: linear-gradient(90deg, #e8f5e9 0%, #c8e6c9 100%); padding: 15px; border-radius: 5px; margin: 20px 0;\">\n",
        "    <h2 style=\"color: #2e7d32; font-size: 18px; margin: 0;\">Section 2: Your First Plot - It's Easier Than You Think!</h2>\n",
        "    <p style=\"color: #555; font-size: 12px; margin-top: 8px; margin-bottom: 0;\">\n",
        "        Let's create your very first visualization. You'll be amazed how simple it is - just 3 lines of code!\n",
        "    </p>\n",
        "</div>"
      ]
    },
    {
      "cell_type": "code",
      "execution_count": null,
      "metadata": {
        "colab": {
          "base_uri": "https://localhost:8080/",
          "height": 525
        },
        "id": "5lyATjJdd_bw",
        "outputId": "779116de-4474-48b3-b473-dd60963ad909"
      },
      "outputs": [
        {
          "output_type": "display_data",
          "data": {
            "text/plain": [
              "<Figure size 640x480 with 1 Axes>"
            ],
            "image/png": "[encoded data removed]"
          },
          "metadata": {}
        },
        {
          "output_type": "display_data",
          "data": {
            "text/plain": [
              "<IPython.core.display.HTML object>"
            ],
            "text/html": [
              "\n",
              "    <div style=\"border-radius: 5px; \n",
              "                margin: 10px 0; \n",
              "                width: 20cm;\n",
              "                max-width: 20cm;\n",
              "                box-sizing: border-box;\n",
              "                box-shadow: 0 2px 4px rgba(0,0,0,0.1);\">\n",
              "        <div style=\"background: linear-gradient(90deg, #28a745 0%, #155724 100%); \n",
              "                    padding: 10px 15px; border-radius: 5px 5px 0 0;\">\n",
              "            <strong style=\"color: white; font-size: 14px;\">Congratulations!</strong>\n",
              "        </div>\n",
              "        <div style=\"background: #f8fff9; padding: 10px 15px; border-radius: 0 0 5px 5px;\n",
              "                    border-left: 3px solid #28a745;\">\n",
              "            <div style=\"color: rgba(0,0,0,0.8); font-size: 12px; line-height: 1.5;\">You just created your first plot! Notice how the line connects all the points (1,2), (2,4), (3,6), etc.</div>\n",
              "        </div>\n",
              "    </div>\n",
              "    "
            ]
          },
          "metadata": {}
        }
      ],
      "source": [
        "# ============================================\n",
        "# CELL 4: Your Very First Plot\n",
        "# Purpose: Create the simplest possible chart\n",
        "# ============================================\n",
        "\n",
        "# Step 1: Create some data\n",
        "# These are just lists of numbers\n",
        "x = [1, 2, 3, 4, 5]      # This will be on the horizontal axis\n",
        "y = [2, 4, 6, 8, 10]     # This will be on the vertical axis\n",
        "\n",
        "# Step 2: Create the plot\n",
        "plt.plot(x, y)           # This creates a line connecting our points\n",
        "\n",
        "# Step 3: Show the plot\n",
        "plt.show()               # This displays it on screen\n",
        "\n",
        "pretty_print(\"Congratulations!\",\n",
        "             \"You just created your first plot! Notice how the line connects all the points (1,2), (2,4), (3,6), etc.\",\n",
        "             'success')"
      ]
    },
    {
      "cell_type": "markdown",
      "metadata": {
        "id": "aqfQMs3-d_bw"
      },
      "source": [
        "<div style=\"background: #fff3e0; padding: 12px; border-radius: 5px; margin: 15px 0; border-left: 3px solid #ff9800;\">\n",
        "    <strong style=\"color: #e65100; font-size: 13px;\">Understanding What Just Happened:</strong>\n",
        "    <ul style=\"color: #555; font-size: 12px; margin-top: 8px; margin-bottom: 0; padding-left: 20px;\">\n",
        "        <li><code>x = [1, 2, 3, 4, 5]</code> creates positions along the horizontal axis</li>\n",
        "        <li><code>y = [2, 4, 6, 8, 10]</code> creates heights for each x position</li>\n",
        "        <li><code>plt.plot(x, y)</code> connects these points with a line</li>\n",
        "        <li><code>plt.show()</code> displays the final chart</li>\n",
        "    </ul>\n",
        "</div>"
      ]
    },
    {
      "cell_type": "markdown",
      "metadata": {
        "id": "xUWWlPYYd_bw"
      },
      "source": [
        "<div style=\"background: linear-gradient(135deg, #667eea 0%, #764ba2 100%); padding: 15px; border-radius: 8px; margin: 20px 0; color: white;\">\n",
        "    <h2 style=\"color: white; font-size: 16px; margin: 0 0 10px 0; display: flex; align-items: center;\">\n",
        "        <span style=\"background: rgba(255,255,255,0.2); padding: 4px 8px; border-radius: 12px; font-size: 12px; margin-right: 10px;\">HANDS-ON #1</span>\n",
        "        Complete Your First Meaningful Plot\n",
        "    </h2>\n",
        "    <p style=\"color: rgba(255,255,255,0.9); font-size: 13px; margin: 0; line-height: 1.5;\">\n",
        "        Now it's your turn! Complete the code below to create a chart showing study hours vs test scores. Simply uncomment the lines to see your chart come to life.\n",
        "    </p>\n",
        "</div>"
      ]
    },
    {
      "cell_type": "code",
      "execution_count": null,
      "metadata": {
        "colab": {
          "base_uri": "https://localhost:8080/"
        },
        "id": "VmXqRnZMd_bx",
        "outputId": "03d869b0-c24b-4856-f4cd-265e448c8bd2"
      },
      "outputs": [
        {
          "output_type": "stream",
          "name": "stdout",
          "text": [
            "👋 Mohammad, uncomment the lines below to complete this exercise!\n"
          ]
        }
      ],
      "source": [
        "# ============================================\n",
        "# HANDS-ON EXERCISE 1: Complete Your First Meaningful Plot\n",
        "# Task: Create a chart showing study hours vs test scores\n",
        "# ============================================\n",
        "\n",
        "# Data: Hours studied vs test scores\n",
        "hours_studied = [1, 2, 3, 4, 5]\n",
        "test_scores = [50, 60, 70, 85, 95]\n",
        "\n",
        "print(f\"👋 {student_name}, uncomment the lines below to complete this exercise!\")\n",
        "\n",
        "# TODO: Uncomment the lines below to create your meaningful plot\n",
        "# plt.plot(hours_studied, test_scores)\n",
        "# plt.title('Study Hours vs Test Scores')\n",
        "# plt.xlabel('Hours Studied')\n",
        "# plt.ylabel('Test Score (%)')\n",
        "# plt.show()\n",
        "\n",
        "# TODO: Uncomment this when you complete the exercise\n",
        "# pretty_print(\"Exercise Complete!\",\n",
        "#              f\"Excellent work {student_name}! Your chart now tells a clear story about the relationship between study time and performance.\",\n",
        "#              'success')"
      ]
    },
    {
      "cell_type": "markdown",
      "metadata": {
        "id": "lzeH0Jfed_bx"
      },
      "source": [
        "<div style=\"background: linear-gradient(90deg, #e8f5e9 0%, #c8e6c9 100%); padding: 15px; border-radius: 5px; margin: 20px 0;\">\n",
        "    <h2 style=\"color: #2e7d32; font-size: 18px; margin: 0;\">Section 3: Line Charts - Perfect for Showing Trends</h2>\n",
        "    <p style=\"color: #555; font-size: 12px; margin-top: 8px; margin-bottom: 0;\">\n",
        "        Line charts are ideal when you want to show how something changes over time. Let's explore their features.\n",
        "    </p>\n",
        "</div>"
      ]
    },
    {
      "cell_type": "markdown",
      "metadata": {
        "id": "h119jd_Dd_by"
      },
      "source": [
        "<div style=\"background: #f8fffe; border: 1px solid #17a2b8; border-radius: 8px; padding: 20px; margin: 20px 0;\">\n",
        "    <div style=\"background: linear-gradient(90deg, #17a2b8 0%, #14919e 100%); color: white; padding: 8px 15px; margin: -20px -20px 15px -20px; border-radius: 8px 8px 0 0;\">\n",
        "        <h3 style=\"margin: 0; font-size: 14px; text-transform: uppercase; letter-spacing: 1px;\">LINE CHARTS: WHEN TO USE THEM</h3>\n",
        "    </div>\n",
        "    <p style=\"color: #555; line-height: 1.6; margin: 0 0 15px 0; font-size: 13px;\">\n",
        "        Line charts are the workhorses of data visualization, perfect for showing how values change over a continuous variable, typically time. They excel at revealing trends, patterns, and anomalies in sequential data. The human eye naturally follows the line's path, making trends immediately apparent.\n",
        "    </p>\n",
        "    <div style=\"display: flex; gap: 15px;\">\n",
        "        <div style=\"flex: 1; background: #e8f5e8; padding: 12px; border-radius: 5px; border-left: 4px solid #28a745;\">\n",
        "            <h4 style=\"color: #28a745; font-size: 12px; margin: 0 0 8px 0; font-weight: 600;\">Good Use Cases:</h4>\n",
        "            <ul style=\"color: #555; font-size: 11px; margin: 0; padding-left: 15px; line-height: 1.5;\">\n",
        "                <li>Stock prices over time</li>\n",
        "                <li>Temperature throughout the day</li>\n",
        "                <li>Website traffic trends</li>\n",
        "                <li>Sales growth over months</li>\n",
        "            </ul>\n",
        "        </div>\n",
        "        <div style=\"flex: 1; background: #fdf2f2; padding: 12px; border-radius: 5px; border-left: 4px solid #dc3545;\">\n",
        "            <h4 style=\"color: #dc3545; font-size: 12px; margin: 0 0 8px 0; font-weight: 600;\">Bad Use Cases:</h4>\n",
        "            <ul style=\"color: #555; font-size: 11px; margin: 0; padding-left: 15px; line-height: 1.5;\">\n",
        "                <li>Comparing unrelated categories</li>\n",
        "                <li>Showing parts of a whole</li>\n",
        "                <li>Discrete, unordered data</li>\n",
        "                <li>When you have only 2-3 data points</li>\n",
        "            </ul>\n",
        "        </div>\n",
        "    </div>\n",
        "</div>"
      ]
    },
    {
      "cell_type": "code",
      "execution_count": null,
      "metadata": {
        "colab": {
          "base_uri": "https://localhost:8080/",
          "height": 605
        },
        "id": "aGtMsz-Ud_by",
        "outputId": "0d65ae0b-36bc-46d8-9214-806a86a97f07"
      },
      "outputs": [
        {
          "output_type": "display_data",
          "data": {
            "text/plain": [
              "<Figure size 1000x500 with 1 Axes>"
            ],
            "image/png": "[encoded data removed]"
          },
          "metadata": {}
        },
        {
          "output_type": "display_data",
          "data": {
            "text/plain": [
              "<IPython.core.display.HTML object>"
            ],
            "text/html": [
              "\n",
              "    <div style=\"border-radius: 5px; \n",
              "                margin: 10px 0; \n",
              "                width: 20cm;\n",
              "                max-width: 20cm;\n",
              "                box-sizing: border-box;\n",
              "                box-shadow: 0 2px 4px rgba(0,0,0,0.1);\">\n",
              "        <div style=\"background: linear-gradient(90deg, #17a2b8 0%, #0e5a63 100%); \n",
              "                    padding: 10px 15px; border-radius: 5px 5px 0 0;\">\n",
              "            <strong style=\"color: white; font-size: 14px;\">Comparing Multiple Trends</strong>\n",
              "        </div>\n",
              "        <div style=\"background: #f8f9fa; padding: 10px 15px; border-radius: 0 0 5px 5px;\n",
              "                    border-left: 3px solid #17a2b8;\">\n",
              "            <div style=\"color: rgba(0,0,0,0.8); font-size: 12px; line-height: 1.5;\">By plotting two lines, we can see that afternoons are consistently warmer than mornings, and both follow a similar pattern throughout the week.</div>\n",
              "        </div>\n",
              "    </div>\n",
              "    "
            ]
          },
          "metadata": {}
        }
      ],
      "source": [
        "# ============================================\n",
        "# CELL 5: Creating a Temperature Trend Line Chart\n",
        "# Purpose: Show daily temperature changes over a week\n",
        "# ============================================\n",
        "\n",
        "# Days of the week\n",
        "days = ['Mon', 'Tue', 'Wed', 'Thu', 'Fri', 'Sat', 'Sun']\n",
        "\n",
        "# Morning temperatures in Celsius\n",
        "morning_temps = [18, 19, 17, 20, 21, 23, 22]\n",
        "\n",
        "# Afternoon temperatures\n",
        "afternoon_temps = [25, 26, 24, 28, 29, 31, 30]\n",
        "\n",
        "# Create a figure with specific size\n",
        "plt.figure(figsize=(10, 5))  # Width=10 inches, Height=5 inches\n",
        "\n",
        "# Plot morning temperatures\n",
        "plt.plot(days, morning_temps,\n",
        "         color='blue',        # Line color\n",
        "         marker='o',          # Add circular markers at each point\n",
        "         label='Morning')     # Label for legend\n",
        "\n",
        "# Plot afternoon temperatures\n",
        "plt.plot(days, afternoon_temps,\n",
        "         color='red',         # Different color for contrast\n",
        "         marker='s',          # Square markers\n",
        "         label='Afternoon')   # Label for legend\n",
        "\n",
        "# Add title and labels\n",
        "plt.title('Weekly Temperature Trends', fontsize=14)\n",
        "plt.xlabel('Day of Week', fontsize=12)\n",
        "plt.ylabel('Temperature (°C)', fontsize=12)\n",
        "\n",
        "# Add a legend to identify the lines\n",
        "plt.legend()  # This creates a box showing what each line represents\n",
        "\n",
        "# Add a grid for easier reading\n",
        "plt.grid(True, alpha=0.3)  # alpha makes it semi-transparent\n",
        "\n",
        "# Display the plot\n",
        "plt.show()\n",
        "\n",
        "pretty_print(\"Comparing Multiple Trends\",\n",
        "             \"By plotting two lines, we can see that afternoons are consistently warmer than mornings, and both follow a similar pattern throughout the week.\",\n",
        "             'info')"
      ]
    },
    {
      "cell_type": "markdown",
      "metadata": {
        "id": "_5t2KrrVd_bz"
      },
      "source": [
        "<div style=\"background: linear-gradient(135deg, #667eea 0%, #764ba2 100%); padding: 15px; border-radius: 8px; margin: 20px 0; color: white;\">\n",
        "    <h2 style=\"color: white; font-size: 16px; margin: 0 0 10px 0; display: flex; align-items: center;\">\n",
        "        <span style=\"background: rgba(255,255,255,0.2); padding: 4px 8px; border-radius: 12px; font-size: 12px; margin-right: 10px;\">HANDS-ON #2</span>\n",
        "        Create a Customized Line Chart\n",
        "    </h2>\n",
        "    <p style=\"color: rgba(255,255,255,0.9); font-size: 13px; margin: 0; line-height: 1.5;\">\n",
        "        Practice customizing line charts by completing the sales comparison below. You'll add colors, line styles, and formatting.\n",
        "    </p>\n",
        "</div>"
      ]
    },
    {
      "cell_type": "code",
      "execution_count": null,
      "metadata": {
        "colab": {
          "base_uri": "https://localhost:8080/"
        },
        "id": "1QzrYLgfd_bz",
        "outputId": "b57d1ae4-1559-4c86-8b23-2ba2243df0c2"
      },
      "outputs": [
        {
          "output_type": "stream",
          "name": "stdout",
          "text": [
            "📈 Mohammad, ready for some advanced styling? Uncomment and run the code below!\n"
          ]
        }
      ],
      "source": [
        "# ============================================\n",
        "# HANDS-ON EXERCISE 2: Customize Line Charts\n",
        "# Task: Create a professional sales comparison chart\n",
        "# ============================================\n",
        "\n",
        "# Sales data for two years\n",
        "months = ['Jan', 'Feb', 'Mar', 'Apr', 'May', 'Jun']\n",
        "sales_2023 = [45, 52, 48, 58, 63, 71]  # In thousands\n",
        "sales_2024 = [50, 58, 61, 70, 78, 85]  # In thousands\n",
        "\n",
        "print(f\"📈 {student_name}, ready for some advanced styling? Uncomment and run the code below!\")\n",
        "\n",
        "# TODO: Uncomment all the lines below to create your professional chart\n",
        "# plt.figure(figsize=(10, 6))\n",
        "\n",
        "# # Plot 2023 sales with dashed line, blue color, and circle markers\n",
        "# plt.plot(months, sales_2023,\n",
        "#          color='blue',\n",
        "#          linestyle='--',\n",
        "#          marker='o',\n",
        "#          linewidth=2,\n",
        "#          label='2023')\n",
        "\n",
        "# # Plot 2024 sales with solid line, red color, and triangle markers\n",
        "# plt.plot(months, sales_2024,\n",
        "#          color='red',\n",
        "#          linestyle='-',\n",
        "#          marker='^',\n",
        "#          linewidth=2.5,\n",
        "#          label='2024')\n",
        "\n",
        "# # Add title and labels\n",
        "# plt.title('Sales Comparison: 2023 vs 2024', fontsize=14, fontweight='bold')\n",
        "# plt.xlabel('Month', fontsize=12)\n",
        "# plt.ylabel('Sales (thousands $)', fontsize=12)\n",
        "\n",
        "# # Add legend and grid\n",
        "# plt.legend()\n",
        "# plt.grid(True, alpha=0.3)\n",
        "\n",
        "# plt.show()\n",
        "\n",
        "# TODO: Uncomment when complete\n",
        "# pretty_print(\"Professional Chart Created!\",\n",
        "#              f\"{student_name}, you've successfully created a professional-looking comparison chart with custom styling!\",\n",
        "#              'success')"
      ]
    },
    {
      "cell_type": "markdown",
      "metadata": {
        "id": "k-JHThs-d_b0"
      },
      "source": [
        "<div style=\"background: linear-gradient(90deg, #e8f5e9 0%, #c8e6c9 100%); padding: 15px; border-radius: 5px; margin: 20px 0;\">\n",
        "    <h2 style=\"color: #2e7d32; font-size: 18px; margin: 0;\">Section 4: Bar Charts - Perfect for Comparing Categories</h2>\n",
        "    <p style=\"color: #555; font-size: 12px; margin-top: 8px; margin-bottom: 0;\">\n",
        "        While line charts show trends, bar charts excel at comparing different categories or groups.\n",
        "    </p>\n",
        "</div>"
      ]
    },
    {
      "cell_type": "markdown",
      "metadata": {
        "id": "aki8dIQMd_b0"
      },
      "source": [
        "<div style=\"background: #f8fffe; border: 1px solid #17a2b8; border-radius: 8px; padding: 20px; margin: 20px 0;\">\n",
        "    <div style=\"background: linear-gradient(90deg, #17a2b8 0%, #14919e 100%); color: white; padding: 8px 15px; margin: -20px -20px 15px -20px; border-radius: 8px 8px 0 0;\">\n",
        "        <h3 style=\"margin: 0; font-size: 14px; text-transform: uppercase; letter-spacing: 1px;\">BAR CHARTS: COMPARING CATEGORIES</h3>\n",
        "    </div>\n",
        "    <p style=\"color: #555; line-height: 1.6; margin: 0 0 15px 0; font-size: 13px;\">\n",
        "        Bar charts are ideal for comparing discrete categories or groups. Unlike line charts that show continuous change, bar charts emphasize individual values, making it easy to compare magnitudes across categories. The length of each bar encodes the value, making comparisons intuitive. Research by William Playfair, who invented the bar chart in 1786, showed that humans can accurately judge linear distances, making bar charts highly effective.\n",
        "    </p>\n",
        "    <div style=\"display: flex; gap: 15px;\">\n",
        "        <div style=\"flex: 1; background: #e8f5e8; padding: 12px; border-radius: 5px; border-left: 4px solid #28a745;\">\n",
        "            <h4 style=\"color: #28a745; font-size: 12px; margin: 0 0 8px 0; font-weight: 600;\">Good Use Cases:</h4>\n",
        "            <ul style=\"color: #555; font-size: 11px; margin: 0; padding-left: 15px; line-height: 1.5;\">\n",
        "                <li>Sales by product category</li>\n",
        "                <li>Population by country</li>\n",
        "                <li>Survey responses</li>\n",
        "                <li>Department budgets</li>\n",
        "            </ul>\n",
        "        </div>\n",
        "        <div style=\"flex: 1; background: #fdf2f2; padding: 12px; border-radius: 5px; border-left: 4px solid #dc3545;\">\n",
        "            <h4 style=\"color: #dc3545; font-size: 12px; margin: 0 0 8px 0; font-weight: 600;\">Bad Use Cases:</h4>\n",
        "            <ul style=\"color: #555; font-size: 11px; margin: 0; padding-left: 15px; line-height: 1.5;\">\n",
        "                <li>Continuous time series data</li>\n",
        "                <li>Too many categories (>15)</li>\n",
        "                <li>Showing relationships</li>\n",
        "                <li>When precise values aren't important</li>\n",
        "            </ul>\n",
        "        </div>\n",
        "    </div>\n",
        "</div>"
      ]
    },
    {
      "cell_type": "code",
      "execution_count": null,
      "metadata": {
        "colab": {
          "base_uri": "https://localhost:8080/",
          "height": 664
        },
        "id": "VIV4mqC1d_b0",
        "outputId": "c2d06b55-fc07-466a-8a4e-716ada26cf68"
      },
      "outputs": [
        {
          "output_type": "display_data",
          "data": {
            "text/plain": [
              "<Figure size 1000x600 with 1 Axes>"
            ],
            "image/png": "[encoded data removed]"
          },
          "metadata": {}
        },
        {
          "output_type": "display_data",
          "data": {
            "text/plain": [
              "<IPython.core.display.HTML object>"
            ],
            "text/html": [
              "\n",
              "    <div style=\"border-radius: 5px; \n",
              "                margin: 10px 0; \n",
              "                width: 20cm;\n",
              "                max-width: 20cm;\n",
              "                box-sizing: border-box;\n",
              "                box-shadow: 0 2px 4px rgba(0,0,0,0.1);\">\n",
              "        <div style=\"background: linear-gradient(90deg, #17a2b8 0%, #0e5a63 100%); \n",
              "                    padding: 10px 15px; border-radius: 5px 5px 0 0;\">\n",
              "            <strong style=\"color: white; font-size: 14px;\">Basic Bar Chart</strong>\n",
              "        </div>\n",
              "        <div style=\"background: #f8f9fa; padding: 10px 15px; border-radius: 0 0 5px 5px;\n",
              "                    border-left: 3px solid #17a2b8;\">\n",
              "            <div style=\"color: rgba(0,0,0,0.8); font-size: 12px; line-height: 1.5;\">Each bar's height represents the number of units sold. We can instantly see that Phones are the best seller, while Tablets sold the least.</div>\n",
              "        </div>\n",
              "    </div>\n",
              "    "
            ]
          },
          "metadata": {}
        }
      ],
      "source": [
        "# ============================================\n",
        "# CELL 6: Your First Bar Chart\n",
        "# Purpose: Create a simple bar chart comparing products\n",
        "# ============================================\n",
        "\n",
        "# Product categories\n",
        "products = ['Laptop', 'Phone', 'Tablet', 'Watch', 'Headphones']\n",
        "\n",
        "# Sales for each product (in units)\n",
        "units_sold = [145, 289, 97, 203, 176]\n",
        "\n",
        "# Create the bar chart\n",
        "plt.figure(figsize=(10, 6))\n",
        "\n",
        "# Create bars\n",
        "plt.bar(products, units_sold, color='#17a2b8')  # Using our theme color\n",
        "\n",
        "# Add title and labels\n",
        "plt.title('Product Sales Comparison', fontsize=14)\n",
        "plt.xlabel('Product Category', fontsize=12)\n",
        "plt.ylabel('Units Sold', fontsize=12)\n",
        "\n",
        "# Display the plot\n",
        "plt.show()\n",
        "\n",
        "pretty_print(\"Basic Bar Chart\",\n",
        "             \"Each bar's height represents the number of units sold. We can instantly see that Phones are the best seller, while Tablets sold the least.\",\n",
        "             'info')"
      ]
    },
    {
      "cell_type": "code",
      "execution_count": null,
      "metadata": {
        "colab": {
          "base_uri": "https://localhost:8080/",
          "height": 664
        },
        "id": "eMXVcalYd_b1",
        "outputId": "fbf817e2-6c4a-4111-a06c-9794ed9733fa"
      },
      "outputs": [
        {
          "output_type": "display_data",
          "data": {
            "text/plain": [
              "<Figure size 1000x600 with 1 Axes>"
            ],
            "image/png": "[encoded data removed]"
          },
          "metadata": {}
        },
        {
          "output_type": "display_data",
          "data": {
            "text/plain": [
              "<IPython.core.display.HTML object>"
            ],
            "text/html": [
              "\n",
              "    <div style=\"border-radius: 5px; \n",
              "                margin: 10px 0; \n",
              "                width: 20cm;\n",
              "                max-width: 20cm;\n",
              "                box-sizing: border-box;\n",
              "                box-shadow: 0 2px 4px rgba(0,0,0,0.1);\">\n",
              "        <div style=\"background: linear-gradient(90deg, #17a2b8 0%, #0e5a63 100%); \n",
              "                    padding: 10px 15px; border-radius: 5px 5px 0 0;\">\n",
              "            <strong style=\"color: white; font-size: 14px;\">Enhanced Bar Chart</strong>\n",
              "        </div>\n",
              "        <div style=\"background: #f8f9fa; padding: 10px 15px; border-radius: 0 0 5px 5px;\n",
              "                    border-left: 3px solid #17a2b8;\">\n",
              "            <div style=\"color: rgba(0,0,0,0.8); font-size: 12px; line-height: 1.5;\">Colors make each category distinct, value labels show exact numbers, and the grid helps estimate values for bars without labels.</div>\n",
              "        </div>\n",
              "    </div>\n",
              "    "
            ]
          },
          "metadata": {}
        }
      ],
      "source": [
        "# ============================================\n",
        "# CELL 7: Enhanced Bar Chart with Colors and Values\n",
        "# Purpose: Make bar charts more informative and visually appealing\n",
        "# ============================================\n",
        "\n",
        "# Same data as before\n",
        "products = ['Laptop', 'Phone', 'Tablet', 'Watch', 'Headphones']\n",
        "units_sold = [145, 289, 97, 203, 176]\n",
        "\n",
        "# Create figure\n",
        "plt.figure(figsize=(10, 6))\n",
        "\n",
        "# Define different colors for each bar\n",
        "colors = ['#FF6B6B', '#4ECDC4', '#45B7D1', '#96CEB4', '#FECA57']\n",
        "\n",
        "# Create bars with colors\n",
        "bars = plt.bar(products, units_sold, color=colors,\n",
        "               edgecolor='black',    # Add black border\n",
        "               linewidth=1.5)        # Border thickness\n",
        "\n",
        "# Add value labels on top of each bar\n",
        "for bar, value in zip(bars, units_sold):\n",
        "    height = bar.get_height()\n",
        "    plt.text(bar.get_x() + bar.get_width()/2,  # X position (center of bar)\n",
        "             height + 5,                        # Y position (slightly above bar)\n",
        "             str(value),                        # The text to display\n",
        "             ha='center',                       # Horizontal alignment\n",
        "             fontsize=10,                       # Font size\n",
        "             fontweight='bold')                 # Make it bold\n",
        "\n",
        "# Add title and labels\n",
        "plt.title('Product Sales Comparison - Q4 2024', fontsize=14, fontweight='bold')\n",
        "plt.xlabel('Product Category', fontsize=12)\n",
        "plt.ylabel('Units Sold', fontsize=12)\n",
        "\n",
        "# Add grid for easier reading\n",
        "plt.grid(True, axis='y', alpha=0.3)  # Only horizontal grid lines\n",
        "\n",
        "# Set Y-axis limit to give space for labels\n",
        "plt.ylim(0, max(units_sold) * 1.1)\n",
        "\n",
        "plt.show()\n",
        "\n",
        "pretty_print(\"Enhanced Bar Chart\",\n",
        "             \"Colors make each category distinct, value labels show exact numbers, and the grid helps estimate values for bars without labels.\",\n",
        "             'info')"
      ]
    },
    {
      "cell_type": "markdown",
      "metadata": {
        "id": "xuB-8M0nd_b1"
      },
      "source": [
        "<div style=\"background: linear-gradient(135deg, #667eea 0%, #764ba2 100%); padding: 15px; border-radius: 8px; margin: 20px 0; color: white;\">\n",
        "    <h2 style=\"color: white; font-size: 16px; margin: 0 0 10px 0; display: flex; align-items: center;\">\n",
        "        <span style=\"background: rgba(255,255,255,0.2); padding: 4px 8px; border-radius: 12px; font-size: 12px; margin-right: 10px;\">HANDS-ON #3</span>\n",
        "        Create a Horizontal Bar Chart\n",
        "    </h2>\n",
        "    <p style=\"color: rgba(255,255,255,0.9); font-size: 13px; margin: 0; line-height: 1.5;\">\n",
        "        Master horizontal bar charts by completing this department headcount visualization. Perfect for long category names!\n",
        "    </p>\n",
        "</div>"
      ]
    },
    {
      "cell_type": "code",
      "execution_count": null,
      "metadata": {
        "colab": {
          "base_uri": "https://localhost:8080/"
        },
        "id": "fsXZfN2rd_b2",
        "outputId": "3447a28d-3b8a-4dd5-a452-ac6d9d8efb05"
      },
      "outputs": [
        {
          "output_type": "stream",
          "name": "stdout",
          "text": [
            "📊 Mohammad, this is your final challenge! Master horizontal bar charts by completing the code below.\n"
          ]
        }
      ],
      "source": [
        "# ============================================\n",
        "# HANDS-ON EXERCISE 3: Horizontal Bar Chart\n",
        "# Task: Create a horizontal bar chart for department data\n",
        "# ============================================\n",
        "\n",
        "# Department names (longer names work better horizontally)\n",
        "departments = ['Human Resources', 'Engineering', 'Marketing & Sales',\n",
        "               'Customer Support', 'Finance & Accounting']\n",
        "\n",
        "# Employee count for each department\n",
        "employee_count = [12, 45, 28, 19, 15]\n",
        "\n",
        "print(f\"📊 {student_name}, this is your final challenge! Master horizontal bar charts by completing the code below.\")\n",
        "\n",
        "# TODO: Uncomment all the lines below to create your horizontal bar chart\n",
        "# plt.figure(figsize=(10, 6))\n",
        "\n",
        "# # Create HORIZONTAL bars using barh instead of bar\n",
        "# bars = plt.barh(departments, employee_count,\n",
        "#                 color='#17a2b8',\n",
        "#                 height=0.6)  # Height controls bar thickness\n",
        "\n",
        "# # Add value labels at the end of each bar\n",
        "# for bar, value in zip(bars, employee_count):\n",
        "#     plt.text(value + 0.5,                        # X position (end of bar)\n",
        "#              bar.get_y() + bar.get_height()/2,   # Y position (center)\n",
        "#              str(value),                         # The text to display\n",
        "#              va='center',                        # Vertical alignment\n",
        "#              fontsize=10,\n",
        "#              fontweight='bold')\n",
        "\n",
        "# # Add title and labels (note: X and Y are swapped in horizontal charts!)\n",
        "# plt.title('Company Headcount by Department', fontsize=14, fontweight='bold')\n",
        "# plt.xlabel('Number of Employees', fontsize=12)  # Horizontal axis\n",
        "# plt.ylabel('Department', fontsize=12)           # Vertical axis\n",
        "\n",
        "# # Add grid and formatting\n",
        "# plt.grid(True, axis='x', alpha=0.3)\n",
        "# plt.xlim(0, max(employee_count) * 1.15)\n",
        "# plt.show()\n",
        "\n",
        "# TODO: Uncomment when complete\n",
        "# pretty_print(\"Horizontal Chart Mastered!\",\n",
        "#              f\"Perfect {student_name}! Horizontal bars are ideal for long category names and ranking visualization.\",\n",
        "#              'success')"
      ]
    },
    {
      "cell_type": "markdown",
      "metadata": {
        "id": "jO_NMSL6d_b2"
      },
      "source": [
        "<div style=\"background: linear-gradient(90deg, #e8f5e9 0%, #c8e6c9 100%); padding: 15px; border-radius: 5px; margin: 20px 0;\">\n",
        "    <h2 style=\"color: #2e7d32; font-size: 18px; margin: 0;\">Section 5: Saving Your Visualizations</h2>\n",
        "    <p style=\"color: #555; font-size: 12px; margin-top: 8px; margin-bottom: 0;\">\n",
        "        Creating great charts is only useful if you can save and share them. Let's learn how to export your work.\n",
        "    </p>\n",
        "</div>"
      ]
    },
    {
      "cell_type": "code",
      "execution_count": null,
      "metadata": {
        "colab": {
          "base_uri": "https://localhost:8080/",
          "height": 682
        },
        "id": "fAg8_ZZpd_b3",
        "outputId": "521ea837-df38-4002-e039-d20110c870c5"
      },
      "outputs": [
        {
          "output_type": "display_data",
          "data": {
            "text/plain": [
              "<Figure size 1000x600 with 1 Axes>"
            ],
            "image/png": "[encoded data removed]"
          },
          "metadata": {}
        },
        {
          "output_type": "display_data",
          "data": {
            "text/plain": [
              "<IPython.core.display.HTML object>"
            ],
            "text/html": [
              "\n",
              "    <div style=\"border-radius: 5px; \n",
              "                margin: 10px 0; \n",
              "                width: 20cm;\n",
              "                max-width: 20cm;\n",
              "                box-sizing: border-box;\n",
              "                box-shadow: 0 2px 4px rgba(0,0,0,0.1);\">\n",
              "        <div style=\"background: linear-gradient(90deg, #28a745 0%, #155724 100%); \n",
              "                    padding: 10px 15px; border-radius: 5px 5px 0 0;\">\n",
              "            <strong style=\"color: white; font-size: 14px;\">Files Saved!</strong>\n",
              "        </div>\n",
              "        <div style=\"background: #f8fff9; padding: 10px 15px; border-radius: 0 0 5px 5px;\n",
              "                    border-left: 3px solid #28a745;\">\n",
              "            <div style=\"color: rgba(0,0,0,0.8); font-size: 12px; line-height: 1.5;\">Your chart has been saved as: quarterly_revenue.png and quarterly_revenue.pdf<br>PNG format is best for presentations and web. PDF is best for professional reports.</div>\n",
              "        </div>\n",
              "    </div>\n",
              "    "
            ]
          },
          "metadata": {}
        }
      ],
      "source": [
        "# ============================================\n",
        "# CELL 8: Saving Charts to Files\n",
        "# Purpose: Learn how to export charts in different formats\n",
        "# ============================================\n",
        "\n",
        "# Create a simple chart to save\n",
        "quarters = ['Q1', 'Q2', 'Q3', 'Q4']\n",
        "revenue = [125, 148, 163, 189]  # In thousands\n",
        "\n",
        "# Create the chart\n",
        "plt.figure(figsize=(10, 6))\n",
        "plt.bar(quarters, revenue, color='#17a2b8')\n",
        "plt.title('2024 Quarterly Revenue', fontsize=14, fontweight='bold')\n",
        "plt.xlabel('Quarter', fontsize=12)\n",
        "plt.ylabel('Revenue ($1000s)', fontsize=12)\n",
        "plt.grid(True, axis='y', alpha=0.3)\n",
        "\n",
        "# IMPORTANT: Save BEFORE showing\n",
        "# Save as PNG (good for presentations)\n",
        "plt.savefig('quarterly_revenue.png',\n",
        "            dpi=150,           # Resolution (dots per inch)\n",
        "            bbox_inches='tight')  # Remove extra whitespace\n",
        "\n",
        "# Save as PDF (good for reports)\n",
        "plt.savefig('quarterly_revenue.pdf',\n",
        "            bbox_inches='tight')\n",
        "\n",
        "# Now show the plot\n",
        "plt.show()\n",
        "\n",
        "pretty_print(\"Files Saved!\",\n",
        "             \"Your chart has been saved as: quarterly_revenue.png and quarterly_revenue.pdf<br>PNG format is best for presentations and web. PDF is best for professional reports.\",\n",
        "             'success')"
      ]
    },
    {
      "cell_type": "markdown",
      "metadata": {
        "id": "H_4zrKgud_b3"
      },
      "source": [
        "<div style=\"background: #fff3e0; padding: 12px; border-radius: 5px; margin: 15px 0; border-left: 3px solid #ff9800;\">\n",
        "    <strong style=\"color: #e65100; font-size: 13px;\">File Format Guide:</strong>\n",
        "    <ul style=\"color: #555; font-size: 12px; margin-top: 8px; margin-bottom: 0; padding-left: 20px;\">\n",
        "        <li><strong>PNG:</strong> Best for web, presentations, and social media. Supports transparency.</li>\n",
        "        <li><strong>PDF:</strong> Best for academic papers and professional reports. Vector format (infinite zoom).</li>\n",
        "        <li><strong>SVG:</strong> Best for web applications. Scalable vector graphics.</li>\n",
        "        <li><strong>JPG:</strong> Good for photos but not ideal for charts (loses quality).</li>\n",
        "    </ul>\n",
        "</div>"
      ]
    },
    {
      "cell_type": "code",
      "execution_count": null,
      "metadata": {
        "colab": {
          "base_uri": "https://localhost:8080/",
          "height": 166
        },
        "id": "sna_MUYXd_b3",
        "outputId": "ce020482-322d-456f-a280-9c53d3bd81e0"
      },
      "outputs": [
        {
          "output_type": "display_data",
          "data": {
            "text/plain": [
              "<IPython.core.display.HTML object>"
            ],
            "text/html": [
              "\n",
              "    <div style=\"border-radius: 5px; \n",
              "                margin: 10px 0; \n",
              "                width: 20cm;\n",
              "                max-width: 20cm;\n",
              "                box-sizing: border-box;\n",
              "                box-shadow: 0 2px 4px rgba(0,0,0,0.1);\">\n",
              "        <div style=\"background: linear-gradient(90deg, #28a745 0%, #155724 100%); \n",
              "                    padding: 10px 15px; border-radius: 5px 5px 0 0;\">\n",
              "            <strong style=\"color: white; font-size: 14px;\">🎉 Congratulations Mohammad!</strong>\n",
              "        </div>\n",
              "        <div style=\"background: #f8fff9; padding: 10px 15px; border-radius: 0 0 5px 5px;\n",
              "                    border-left: 3px solid #28a745;\">\n",
              "            <div style=\"color: rgba(0,0,0,0.8); font-size: 12px; line-height: 1.5;\">You've successfully completed Lab 1! You now understand the fundamentals of Matplotlib and can create professional-looking charts. These skills form the foundation for all advanced visualization techniques. Outstanding work, Mohammad!</div>\n",
              "        </div>\n",
              "    </div>\n",
              "    "
            ]
          },
          "metadata": {}
        },
        {
          "output_type": "stream",
          "name": "stdout",
          "text": [
            "\n",
            "✨ Way to go, Mohammad! You're ready for Lab 3: Grammar Graphics, and more!\n"
          ]
        }
      ],
      "source": [
        "# ============================================\n",
        "# FINAL: Personalized Congratulations\n",
        "# Purpose: Celebrate the student's completion\n",
        "# ============================================\n",
        "\n",
        "pretty_print(f\"🎉 Congratulations {student_name}!\",\n",
        "             f\"You've successfully completed Lab 2! You now understand the fundamentals of Matplotlib and can create professional-looking charts. These skills form the foundation for all advanced visualization techniques. Outstanding work, {student_name}!\",\n",
        "             'success')\n",
        "\n",
        "print(f\"\\n✨ Way to go, {student_name}! You're ready for Lab 3: Grammar Graphics and more!\")"
      ]
    },
    {
      "cell_type": "markdown",
      "metadata": {
        "id": "TCVrn4kid_b4"
      },
      "source": [
        "<div style=\"background: #f8fffe; border: 1px solid #17a2b8; border-radius: 8px; padding: 20px; margin: 20px 0;\">\n",
        "    <div style=\"background: linear-gradient(90deg, #17a2b8 0%, #14919e 100%); color: white; padding: 8px 15px; margin: -20px -20px 15px -20px; border-radius: 8px 8px 0 0;\">\n",
        "        <h3 style=\"margin: 0; font-size: 14px; text-transform: uppercase; letter-spacing: 1px;\">LAB SUMMARY</h3>\n",
        "    </div>\n",
        "    <h4 style=\"color: #17a2b8; font-size: 14px; margin: 0 0 10px 0;\">What You Learned:</h4>\n",
        "    <ul style=\"color: #555; font-size: 12px; margin: 0 0 15px 0; padding-left: 20px; line-height: 1.6;\">\n",
        "        <li>Matplotlib basics and its importance in scientific computing</li>\n",
        "        <li>Creating your first plot with minimal code</li>\n",
        "        <li>Line charts for temporal data and trends</li>\n",
        "        <li>Bar charts for categorical comparisons</li>\n",
        "        <li>Best practices for each chart type</li>\n",
        "        <li>Exporting figures for different use cases</li>\n",
        "    </ul>\n",
        "    <p style=\"color: #555; font-size: 12px; margin: 0; font-weight: 600;\">\n",
        "        <strong>Next Lab:</strong> Essential Charts - Scatter plots, Histograms, and more!\n",
        "    </p>\n",
        "</div>"
      ]
    },
    {
      "cell_type": "markdown",
      "metadata": {
        "id": "h_uVcUNpd_b4"
      },
      "source": [
        "<div style=\"background: linear-gradient(90deg, #17a2b8 0%, #0e5a63 60%, #0a3d44 100%); color: white; padding: 20px; border-radius: 5px; margin-top: 30px;\">\n",
        "    <h2 style=\"font-size: 20px; margin: 0;\">Thank You for Completing Lab 2!</h2>\n",
        "    <p style=\"font-size: 13px; line-height: 1.8; margin-top: 10px; margin-bottom: 15px;\">\n",
        "        You've successfully mastered the fundamentals of data visualization with Matplotlib! From simple plots to professional charts, you now have the skills to transform data into compelling visual stories.\n",
        "    </p>\n",
        "    <div style=\"background: rgba(255,255,255,0.1); padding: 10px; border-radius: 3px; font-size: 12px;\">\n",
        "        <strong>Ready for more adventures?</strong> Practice with your own data, experiment with different colors and styles, and get ready for more labs where we'll explore scatter plots, histograms, and subplots!\n",
        "    </div>\n",
        "</div>"
      ]
    }
  ],
  "metadata": {
    "kernelspec": {
      "display_name": "Python 3",
      "language": "python",
      "name": "python3"
    },
    "language_info": {
      "codemirror_mode": {
        "name": "ipython",
        "version": 3
      },
      "file_extension": ".py",
      "mimetype": "text/x-python",
      "name": "python",
      "nbconvert_exporter": "python",
      "pygments_lexer": "ipython3",
      "version": "3.8.0"
    },
    "colab": {
      "provenance": [],
      "include_colab_link": true
    }
  },
  "nbformat": 4,
  "nbformat_minor": 0
}
